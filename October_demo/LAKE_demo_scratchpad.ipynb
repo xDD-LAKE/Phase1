{
 "cells": [
  {
   "cell_type": "code",
   "execution_count": null,
   "id": "da2ab52c",
   "metadata": {},
   "outputs": [],
   "source": [
    "import requests\n",
    "from IPython import display\n",
    "from base64 import b64decode\n",
    "import pandas as pd\n",
    "import json\n",
    "\n",
    "API_BASE=\"http://xdddev.chtc.io/askem_staging/\""
   ]
  },
  {
   "cell_type": "markdown",
   "id": "5e6fdd9e",
   "metadata": {},
   "source": [
    "# Table search and extraction"
   ]
  },
  {
   "cell_type": "code",
   "execution_count": null,
   "id": "ebbde702",
   "metadata": {},
   "outputs": [],
   "source": [
    "url = f\"{API_BASE}object?askem_class=Table&contentText=parameter estimation\"\n",
    "resp = requests.get(url)\n",
    "data = resp.json()\n",
    "data"
   ]
  },
  {
   "cell_type": "code",
   "execution_count": null,
   "id": "6d53db11",
   "metadata": {},
   "outputs": [],
   "source": [
    "result = data[\"success\"][\"data\"][0]\n",
    "display.Image(b64decode(result['properties']['image']))"
   ]
  },
  {
   "cell_type": "code",
   "execution_count": null,
   "id": "767a3b35",
   "metadata": {},
   "outputs": [],
   "source": [
    "df = pd.read_json(json.dumps(result['properties']['contentJSON']))\n",
    "df"
   ]
  },
  {
   "cell_type": "code",
   "execution_count": null,
   "id": "ce79f96f",
   "metadata": {},
   "outputs": [],
   "source": [
    "url = f\"{API_BASE}/object/0842faf6-c659-4604-b553-55d8bfbe928d\"\n",
    "resp = requests.get(url)\n",
    "data = resp.json()\n",
    "result = data[\"success\"][\"data\"][0]\n",
    "display.Image(b64decode(result['properties']['image']))"
   ]
  },
  {
   "cell_type": "code",
   "execution_count": null,
   "id": "846e40c1",
   "metadata": {},
   "outputs": [],
   "source": [
    "df = pd.read_json(json.dumps(result['properties']['contentJSON']))\n",
    "df"
   ]
  },
  {
   "cell_type": "markdown",
   "id": "581ea5ee",
   "metadata": {},
   "source": [
    "# Term lookup"
   ]
  },
  {
   "cell_type": "markdown",
   "id": "a9ba40ba",
   "metadata": {},
   "source": [
    "# Parameter lookup"
   ]
  }
 ],
 "metadata": {
  "kernelspec": {
   "display_name": "Python 3 (ipykernel)",
   "language": "python",
   "name": "python3"
  },
  "language_info": {
   "codemirror_mode": {
    "name": "ipython",
    "version": 3
   },
   "file_extension": ".py",
   "mimetype": "text/x-python",
   "name": "python",
   "nbconvert_exporter": "python",
   "pygments_lexer": "ipython3",
   "version": "3.9.12"
  }
 },
 "nbformat": 4,
 "nbformat_minor": 5
}
