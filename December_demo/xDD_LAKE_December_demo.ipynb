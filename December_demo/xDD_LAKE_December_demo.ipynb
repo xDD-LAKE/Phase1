{
 "cells": [
  {
   "cell_type": "markdown",
   "id": "9e14e588",
   "metadata": {},
   "source": [
    "### Knowledge Search and Discovery"
   ]
  },
  {
   "cell_type": "code",
   "execution_count": 3,
   "id": "38139a39",
   "metadata": {},
   "outputs": [],
   "source": [
    "## Task 1: Literature Review: Find work already done on interventions\n",
    "## and hospitalization rates.\n",
    "\n",
    "# TODO: List some inputs here from TA3 IPython notebook\n",
    "# This could include things like model names or keywords or \n",
    "# intervention types. \n",
    "\n",
    "\n",
    "# Call a utility function that given the above input keywords\n",
    "# generates a list of xDD queries.\n",
    "# Example: \n",
    "#   Input terms: social distancing, masking, hospitalization\n",
    "#   Output Expanded terms: SEIR+social+distancing, SEIR+masking...\n"
   ]
  },
  {
   "cell_type": "code",
   "execution_count": null,
   "id": "13cf142e",
   "metadata": {},
   "outputs": [],
   "source": [
    "# Make queries to xDD for document search (multiple cells one per query maybe? )\n",
    "\n",
    "\n",
    "# TODO: We will need some way to merge results from the many queries\n",
    "# we might be issuing. Maybe do a unique / sort if a document\n",
    "# appears as results for many queries?\n",
    "\n",
    "# Output: Display of document titles, abstract, extracted URLs. \n",
    "# As Miron mentioned, this can also be saved into a file (JSON/CSV)\n",
    "# and we can show the top results here.  \n",
    "# Also output the SBML URL / code link here\n",
    "\n",
    "# Optional output: List of related documents that share same URL?"
   ]
  },
  {
   "cell_type": "code",
   "execution_count": 6,
   "id": "b1aaf427",
   "metadata": {},
   "outputs": [],
   "source": [
    "# COSMOS extractions for selected documents\n",
    "\n",
    "# Another optional thing to do if we want to show-off COSMOS\n",
    "# is to select a few results from above and then showcase the extractions\n",
    "# for those documents. This could highlight \n",
    "# (a) equations \n",
    "# (b) parameter tables\n",
    "# ...\n",
    "\n",
    "# Essentially we can say that the output of xDD that goes into Clay's team includes\n",
    "# - document PDFs \n",
    "# - code URLs (github/SBML)\n",
    "# - COSMOS extractions"
   ]
  },
  {
   "cell_type": "code",
   "execution_count": null,
   "id": "41481fac",
   "metadata": {},
   "outputs": [],
   "source": [
    "# Hand over to Clay to discuss Code extraction and GROMET creation / registration in xDD"
   ]
  },
  {
   "cell_type": "code",
   "execution_count": null,
   "id": "17b0a47b",
   "metadata": {},
   "outputs": [],
   "source": [
    "# Get back control from Clay to discuss model search "
   ]
  },
  {
   "cell_type": "code",
   "execution_count": null,
   "id": "31bdf118",
   "metadata": {},
   "outputs": [],
   "source": [
    "## Task 2: Discover models that support NPI interventions\n",
    "\n",
    "# Input: Generate some queries that again contain model name\n",
    "#        with some interventions as parameters. \n",
    "# Example: SEIR model and parameters has masking\n",
    "\n",
    "# Output: Return list of models discovered from xDD\n",
    "\n",
    "# Maybe one thing to highlight here is to see if we can show\n",
    "# where was there a match or highlight relevant part of a model\n",
    "# somehow. But this might require some code from Clay to render\n",
    "# models."
   ]
  },
  {
   "cell_type": "code",
   "execution_count": null,
   "id": "b564822a",
   "metadata": {},
   "outputs": [],
   "source": [
    "# Continue model search but with other interventions. \n",
    "# Will they be same model or different models? (Coordinate with Clay)"
   ]
  },
  {
   "cell_type": "code",
   "execution_count": null,
   "id": "3684262f",
   "metadata": {},
   "outputs": [],
   "source": [
    "# Continue model search to see if we can search for\n",
    "# models that support a start date (parameter name)\n",
    "# and models that have output as hospitalizations (output name?)"
   ]
  },
  {
   "cell_type": "code",
   "execution_count": null,
   "id": "89bbc40d",
   "metadata": {},
   "outputs": [],
   "source": [
    "# Hand it back to Clay / Mike with a selected model which has\n",
    "# the chosen set of parameters for further processing."
   ]
  }
 ],
 "metadata": {
  "colab": {
   "provenance": []
  },
  "kernelspec": {
   "display_name": "Python 3 (ipykernel)",
   "language": "python",
   "name": "python3"
  },
  "language_info": {
   "codemirror_mode": {
    "name": "ipython",
    "version": 3
   },
   "file_extension": ".py",
   "mimetype": "text/x-python",
   "name": "python",
   "nbconvert_exporter": "python",
   "pygments_lexer": "ipython3",
   "version": "3.8.13"
  }
 },
 "nbformat": 4,
 "nbformat_minor": 5
}
